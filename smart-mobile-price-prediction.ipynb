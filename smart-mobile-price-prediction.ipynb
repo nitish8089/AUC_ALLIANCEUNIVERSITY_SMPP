{
 "cells": [
  {
   "cell_type": "raw",
   "id": "484b2903",
   "metadata": {
    "_cell_guid": "b1076dfc-b9ad-4769-8c92-a6c4dae69d19",
    "_uuid": "8f2839f25d086af736a60e9eeb907d3b93b6e0e5",
    "papermill": {
     "duration": 0.012781,
     "end_time": "2023-07-15T05:25:05.744610",
     "exception": false,
     "start_time": "2023-07-15T05:25:05.731829",
     "status": "completed"
    },
    "tags": []
   },
   "source": [
    "# This Python 3 environment comes with many helpful analytics libraries installed\n",
    "# It is defined by the kaggle/python Docker image: https://github.com/kaggle/docker-python\n",
    "# For example, here's several helpful packages to load\n",
    "\n",
    "import numpy as np # linear algebra\n",
    "import pandas as pd # data processing, CSV file I/O (e.g. pd.read_csv)\n",
    "\n",
    "# Input data files are available in the read-only \"../input/\" directory\n",
    "# For example, running this (by clicking run or pressing Shift+Enter) will list all files under the input directory\n",
    "\n",
    "import os\n",
    "for dirname, _, filenames in os.walk('/kaggle/input'):\n",
    "    for filename in filenames:\n",
    "        print(os.path.join(dirname, filename))\n",
    "\n",
    "# You can write up to 20GB to the current directory (/kaggle/working/) that gets preserved as output when you create a version using \"Save & Run All\" \n",
    "# You can also write temporary files to /kaggle/temp/, but they won't be saved outside of the current session"
   ]
  },
  {
   "cell_type": "code",
   "execution_count": 1,
   "id": "2d84d67b",
   "metadata": {
    "execution": {
     "iopub.execute_input": "2023-07-15T05:25:05.771628Z",
     "iopub.status.busy": "2023-07-15T05:25:05.770892Z",
     "iopub.status.idle": "2023-07-15T05:25:07.442774Z",
     "shell.execute_reply": "2023-07-15T05:25:07.441572Z"
    },
    "papermill": {
     "duration": 1.689457,
     "end_time": "2023-07-15T05:25:07.445371",
     "exception": false,
     "start_time": "2023-07-15T05:25:05.755914",
     "status": "completed"
    },
    "tags": []
   },
   "outputs": [
    {
     "name": "stderr",
     "output_type": "stream",
     "text": [
      "/opt/conda/lib/python3.10/site-packages/scipy/__init__.py:146: UserWarning: A NumPy version >=1.16.5 and <1.23.0 is required for this version of SciPy (detected version 1.23.5\n",
      "  warnings.warn(f\"A NumPy version >={np_minversion} and <{np_maxversion}\"\n"
     ]
    },
    {
     "data": {
      "text/html": [
       "<div>\n",
       "<style scoped>\n",
       "    .dataframe tbody tr th:only-of-type {\n",
       "        vertical-align: middle;\n",
       "    }\n",
       "\n",
       "    .dataframe tbody tr th {\n",
       "        vertical-align: top;\n",
       "    }\n",
       "\n",
       "    .dataframe thead th {\n",
       "        text-align: right;\n",
       "    }\n",
       "</style>\n",
       "<table border=\"1\" class=\"dataframe\">\n",
       "  <thead>\n",
       "    <tr style=\"text-align: right;\">\n",
       "      <th></th>\n",
       "      <th>battery_power</th>\n",
       "      <th>blue</th>\n",
       "      <th>clock_speed</th>\n",
       "      <th>dual_sim</th>\n",
       "      <th>fc</th>\n",
       "      <th>four_g</th>\n",
       "      <th>int_memory</th>\n",
       "      <th>m_dep</th>\n",
       "      <th>mobile_wt</th>\n",
       "      <th>n_cores</th>\n",
       "      <th>...</th>\n",
       "      <th>px_height</th>\n",
       "      <th>px_width</th>\n",
       "      <th>ram</th>\n",
       "      <th>sc_h</th>\n",
       "      <th>sc_w</th>\n",
       "      <th>talk_time</th>\n",
       "      <th>three_g</th>\n",
       "      <th>touch_screen</th>\n",
       "      <th>wifi</th>\n",
       "      <th>price_range</th>\n",
       "    </tr>\n",
       "  </thead>\n",
       "  <tbody>\n",
       "    <tr>\n",
       "      <th>0</th>\n",
       "      <td>842</td>\n",
       "      <td>0</td>\n",
       "      <td>2.2</td>\n",
       "      <td>0</td>\n",
       "      <td>1</td>\n",
       "      <td>0</td>\n",
       "      <td>7</td>\n",
       "      <td>0.6</td>\n",
       "      <td>188</td>\n",
       "      <td>2</td>\n",
       "      <td>...</td>\n",
       "      <td>20</td>\n",
       "      <td>756</td>\n",
       "      <td>2549</td>\n",
       "      <td>9</td>\n",
       "      <td>7</td>\n",
       "      <td>19</td>\n",
       "      <td>0</td>\n",
       "      <td>0</td>\n",
       "      <td>1</td>\n",
       "      <td>1</td>\n",
       "    </tr>\n",
       "    <tr>\n",
       "      <th>1</th>\n",
       "      <td>1021</td>\n",
       "      <td>1</td>\n",
       "      <td>0.5</td>\n",
       "      <td>1</td>\n",
       "      <td>0</td>\n",
       "      <td>1</td>\n",
       "      <td>53</td>\n",
       "      <td>0.7</td>\n",
       "      <td>136</td>\n",
       "      <td>3</td>\n",
       "      <td>...</td>\n",
       "      <td>905</td>\n",
       "      <td>1988</td>\n",
       "      <td>2631</td>\n",
       "      <td>17</td>\n",
       "      <td>3</td>\n",
       "      <td>7</td>\n",
       "      <td>1</td>\n",
       "      <td>1</td>\n",
       "      <td>0</td>\n",
       "      <td>2</td>\n",
       "    </tr>\n",
       "    <tr>\n",
       "      <th>2</th>\n",
       "      <td>563</td>\n",
       "      <td>1</td>\n",
       "      <td>0.5</td>\n",
       "      <td>1</td>\n",
       "      <td>2</td>\n",
       "      <td>1</td>\n",
       "      <td>41</td>\n",
       "      <td>0.9</td>\n",
       "      <td>145</td>\n",
       "      <td>5</td>\n",
       "      <td>...</td>\n",
       "      <td>1263</td>\n",
       "      <td>1716</td>\n",
       "      <td>2603</td>\n",
       "      <td>11</td>\n",
       "      <td>2</td>\n",
       "      <td>9</td>\n",
       "      <td>1</td>\n",
       "      <td>1</td>\n",
       "      <td>0</td>\n",
       "      <td>2</td>\n",
       "    </tr>\n",
       "    <tr>\n",
       "      <th>3</th>\n",
       "      <td>615</td>\n",
       "      <td>1</td>\n",
       "      <td>2.5</td>\n",
       "      <td>0</td>\n",
       "      <td>0</td>\n",
       "      <td>0</td>\n",
       "      <td>10</td>\n",
       "      <td>0.8</td>\n",
       "      <td>131</td>\n",
       "      <td>6</td>\n",
       "      <td>...</td>\n",
       "      <td>1216</td>\n",
       "      <td>1786</td>\n",
       "      <td>2769</td>\n",
       "      <td>16</td>\n",
       "      <td>8</td>\n",
       "      <td>11</td>\n",
       "      <td>1</td>\n",
       "      <td>0</td>\n",
       "      <td>0</td>\n",
       "      <td>2</td>\n",
       "    </tr>\n",
       "    <tr>\n",
       "      <th>4</th>\n",
       "      <td>1821</td>\n",
       "      <td>1</td>\n",
       "      <td>1.2</td>\n",
       "      <td>0</td>\n",
       "      <td>13</td>\n",
       "      <td>1</td>\n",
       "      <td>44</td>\n",
       "      <td>0.6</td>\n",
       "      <td>141</td>\n",
       "      <td>2</td>\n",
       "      <td>...</td>\n",
       "      <td>1208</td>\n",
       "      <td>1212</td>\n",
       "      <td>1411</td>\n",
       "      <td>8</td>\n",
       "      <td>2</td>\n",
       "      <td>15</td>\n",
       "      <td>1</td>\n",
       "      <td>1</td>\n",
       "      <td>0</td>\n",
       "      <td>1</td>\n",
       "    </tr>\n",
       "  </tbody>\n",
       "</table>\n",
       "<p>5 rows × 21 columns</p>\n",
       "</div>"
      ],
      "text/plain": [
       "   battery_power  blue  clock_speed  dual_sim  fc  four_g  int_memory  m_dep  \\\n",
       "0            842     0          2.2         0   1       0           7    0.6   \n",
       "1           1021     1          0.5         1   0       1          53    0.7   \n",
       "2            563     1          0.5         1   2       1          41    0.9   \n",
       "3            615     1          2.5         0   0       0          10    0.8   \n",
       "4           1821     1          1.2         0  13       1          44    0.6   \n",
       "\n",
       "   mobile_wt  n_cores  ...  px_height  px_width   ram  sc_h  sc_w  talk_time  \\\n",
       "0        188        2  ...         20       756  2549     9     7         19   \n",
       "1        136        3  ...        905      1988  2631    17     3          7   \n",
       "2        145        5  ...       1263      1716  2603    11     2          9   \n",
       "3        131        6  ...       1216      1786  2769    16     8         11   \n",
       "4        141        2  ...       1208      1212  1411     8     2         15   \n",
       "\n",
       "   three_g  touch_screen  wifi  price_range  \n",
       "0        0             0     1            1  \n",
       "1        1             1     0            2  \n",
       "2        1             1     0            2  \n",
       "3        1             0     0            2  \n",
       "4        1             1     0            1  \n",
       "\n",
       "[5 rows x 21 columns]"
      ]
     },
     "execution_count": 1,
     "metadata": {},
     "output_type": "execute_result"
    }
   ],
   "source": [
    "import seaborn as sns\n",
    "import matplotlib.pylab as plt\n",
    "import numpy as np\n",
    "import pandas as pd\n",
    "%matplotlib inline\n",
    "\n",
    "df=pd.read_csv('/kaggle/input/mobile-price-classification1/Mobile-data-train.csv')\n",
    "df.head(5)"
   ]
  },
  {
   "cell_type": "code",
   "execution_count": 2,
   "id": "825cdf15",
   "metadata": {
    "execution": {
     "iopub.execute_input": "2023-07-15T05:25:07.465900Z",
     "iopub.status.busy": "2023-07-15T05:25:07.464611Z",
     "iopub.status.idle": "2023-07-15T05:25:07.491387Z",
     "shell.execute_reply": "2023-07-15T05:25:07.489676Z"
    },
    "papermill": {
     "duration": 0.039843,
     "end_time": "2023-07-15T05:25:07.494072",
     "exception": false,
     "start_time": "2023-07-15T05:25:07.454229",
     "status": "completed"
    },
    "tags": []
   },
   "outputs": [
    {
     "name": "stdout",
     "output_type": "stream",
     "text": [
      "<class 'pandas.core.frame.DataFrame'>\n",
      "RangeIndex: 2000 entries, 0 to 1999\n",
      "Data columns (total 21 columns):\n",
      " #   Column         Non-Null Count  Dtype  \n",
      "---  ------         --------------  -----  \n",
      " 0   battery_power  2000 non-null   int64  \n",
      " 1   blue           2000 non-null   int64  \n",
      " 2   clock_speed    2000 non-null   float64\n",
      " 3   dual_sim       2000 non-null   int64  \n",
      " 4   fc             2000 non-null   int64  \n",
      " 5   four_g         2000 non-null   int64  \n",
      " 6   int_memory     2000 non-null   int64  \n",
      " 7   m_dep          2000 non-null   float64\n",
      " 8   mobile_wt      2000 non-null   int64  \n",
      " 9   n_cores        2000 non-null   int64  \n",
      " 10  pc             2000 non-null   int64  \n",
      " 11  px_height      2000 non-null   int64  \n",
      " 12  px_width       2000 non-null   int64  \n",
      " 13  ram            2000 non-null   int64  \n",
      " 14  sc_h           2000 non-null   int64  \n",
      " 15  sc_w           2000 non-null   int64  \n",
      " 16  talk_time      2000 non-null   int64  \n",
      " 17  three_g        2000 non-null   int64  \n",
      " 18  touch_screen   2000 non-null   int64  \n",
      " 19  wifi           2000 non-null   int64  \n",
      " 20  price_range    2000 non-null   int64  \n",
      "dtypes: float64(2), int64(19)\n",
      "memory usage: 328.2 KB\n"
     ]
    }
   ],
   "source": [
    "df.info()"
   ]
  },
  {
   "cell_type": "code",
   "execution_count": 3,
   "id": "5f2f1de2",
   "metadata": {
    "execution": {
     "iopub.execute_input": "2023-07-15T05:25:07.514309Z",
     "iopub.status.busy": "2023-07-15T05:25:07.513874Z",
     "iopub.status.idle": "2023-07-15T05:25:07.523347Z",
     "shell.execute_reply": "2023-07-15T05:25:07.522027Z"
    },
    "papermill": {
     "duration": 0.022814,
     "end_time": "2023-07-15T05:25:07.525906",
     "exception": false,
     "start_time": "2023-07-15T05:25:07.503092",
     "status": "completed"
    },
    "tags": []
   },
   "outputs": [
    {
     "data": {
      "text/plain": [
       "(1820, 21)"
      ]
     },
     "execution_count": 3,
     "metadata": {},
     "output_type": "execute_result"
    }
   ],
   "source": [
    "tdf= df[df['sc_w'] != 0]\n",
    "tdf.shape"
   ]
  },
  {
   "cell_type": "code",
   "execution_count": 4,
   "id": "ac518b83",
   "metadata": {
    "execution": {
     "iopub.execute_input": "2023-07-15T05:25:07.546560Z",
     "iopub.status.busy": "2023-07-15T05:25:07.546064Z",
     "iopub.status.idle": "2023-07-15T05:25:07.875774Z",
     "shell.execute_reply": "2023-07-15T05:25:07.874847Z"
    },
    "papermill": {
     "duration": 0.34298,
     "end_time": "2023-07-15T05:25:07.878434",
     "exception": false,
     "start_time": "2023-07-15T05:25:07.535454",
     "status": "completed"
    },
    "tags": []
   },
   "outputs": [
    {
     "data": {
      "image/png": "[encoded data removed]",
      "text/plain": [
       "<Figure size 640x480 with 1 Axes>"
      ]
     },
     "metadata": {},
     "output_type": "display_data"
    }
   ],
   "source": [
    "sns.set()\n",
    "price_plot=tdf['price_range'].value_counts().plot(kind='bar')\n",
    "plt.xlabel('price_range')\n",
    "plt.ylabel('Count')\n",
    "plt.show()\n"
   ]
  },
  {
   "cell_type": "code",
   "execution_count": 5,
   "id": "ed6309bb",
   "metadata": {
    "execution": {
     "iopub.execute_input": "2023-07-15T05:25:07.900145Z",
     "iopub.status.busy": "2023-07-15T05:25:07.898989Z",
     "iopub.status.idle": "2023-07-15T05:25:08.051651Z",
     "shell.execute_reply": "2023-07-15T05:25:08.050092Z"
    },
    "papermill": {
     "duration": 0.166428,
     "end_time": "2023-07-15T05:25:08.054351",
     "exception": false,
     "start_time": "2023-07-15T05:25:07.887923",
     "status": "completed"
    },
    "tags": []
   },
   "outputs": [
    {
     "data": {
      "text/html": [
       "<style type=\"text/css\">\n",
       "#T_ffa6c_row0_col0, #T_ffa6c_row1_col0, #T_ffa6c_row1_col3, #T_ffa6c_row2_col0, #T_ffa6c_row3_col0, #T_ffa6c_row4_col0, #T_ffa6c_row5_col0, #T_ffa6c_row6_col0, #T_ffa6c_row6_col3, #T_ffa6c_row7_col0, #T_ffa6c_row8_col0, #T_ffa6c_row8_col2, #T_ffa6c_row8_col3, #T_ffa6c_row8_col4, #T_ffa6c_row8_col5, #T_ffa6c_row8_col6, #T_ffa6c_row9_col0, #T_ffa6c_row9_col2, #T_ffa6c_row10_col0, #T_ffa6c_row10_col2, #T_ffa6c_row10_col3, #T_ffa6c_row10_col4, #T_ffa6c_row10_col5, #T_ffa6c_row10_col6, #T_ffa6c_row11_col0, #T_ffa6c_row11_col2, #T_ffa6c_row11_col3, #T_ffa6c_row11_col4, #T_ffa6c_row11_col5, #T_ffa6c_row11_col6, #T_ffa6c_row12_col0, #T_ffa6c_row12_col2, #T_ffa6c_row12_col3, #T_ffa6c_row12_col4, #T_ffa6c_row12_col5, #T_ffa6c_row12_col6, #T_ffa6c_row13_col0, #T_ffa6c_row13_col2, #T_ffa6c_row13_col3, #T_ffa6c_row13_col4, #T_ffa6c_row13_col5, #T_ffa6c_row13_col6, #T_ffa6c_row14_col0, #T_ffa6c_row14_col2, #T_ffa6c_row14_col3, #T_ffa6c_row14_col4, #T_ffa6c_row14_col5, #T_ffa6c_row14_col6, #T_ffa6c_row15_col0, #T_ffa6c_row15_col2, #T_ffa6c_row15_col3, #T_ffa6c_row15_col4, #T_ffa6c_row15_col5, #T_ffa6c_row15_col6, #T_ffa6c_row16_col0, #T_ffa6c_row16_col2, #T_ffa6c_row16_col3, #T_ffa6c_row16_col4, #T_ffa6c_row16_col5, #T_ffa6c_row16_col6, #T_ffa6c_row17_col0, #T_ffa6c_row17_col2, #T_ffa6c_row17_col3, #T_ffa6c_row17_col4, #T_ffa6c_row17_col5, #T_ffa6c_row17_col6, #T_ffa6c_row18_col0, #T_ffa6c_row18_col2, #T_ffa6c_row18_col3, #T_ffa6c_row18_col4, #T_ffa6c_row18_col5, #T_ffa6c_row18_col6, #T_ffa6c_row19_col0, #T_ffa6c_row19_col2, #T_ffa6c_row19_col3, #T_ffa6c_row19_col4, #T_ffa6c_row19_col5, #T_ffa6c_row19_col6 {\n",
       "  background-color: #f7fcf5;\n",
       "  color: #000000;\n",
       "}\n",
       "#T_ffa6c_row0_col1 {\n",
       "  background-color: #00441b;\n",
       "  color: #f1f1f1;\n",
       "  width: 10em;\n",
       "  background: linear-gradient(90deg, #00BFC4 100.0%, transparent 100.0%);\n",
       "}\n",
       "#T_ffa6c_row0_col2, #T_ffa6c_row0_col4, #T_ffa6c_row0_col5, #T_ffa6c_row0_col6, #T_ffa6c_row2_col3, #T_ffa6c_row3_col3 {\n",
       "  background-color: #00441b;\n",
       "  color: #f1f1f1;\n",
       "}\n",
       "#T_ffa6c_row0_col3 {\n",
       "  background-color: #70c274;\n",
       "  color: #000000;\n",
       "}\n",
       "#T_ffa6c_row0_col7 {\n",
       "  background-color: #00441b;\n",
       "  color: #f1f1f1;\n",
       "  width: 10em;\n",
       "  background: linear-gradient(90deg, #F8766D 100.0%, transparent 100.0%);\n",
       "}\n",
       "#T_ffa6c_row1_col1 {\n",
       "  background-color: #b7e2b1;\n",
       "  color: #000000;\n",
       "  width: 10em;\n",
       "  background: linear-gradient(90deg, #00BFC4 30.3%, transparent 30.3%);\n",
       "}\n",
       "#T_ffa6c_row1_col2 {\n",
       "  background-color: #95d391;\n",
       "  color: #000000;\n",
       "}\n",
       "#T_ffa6c_row1_col4 {\n",
       "  background-color: #cbeac4;\n",
       "  color: #000000;\n",
       "}\n",
       "#T_ffa6c_row1_col5 {\n",
       "  background-color: #c4e8bd;\n",
       "  color: #000000;\n",
       "}\n",
       "#T_ffa6c_row1_col6 {\n",
       "  background-color: #b5e1ae;\n",
       "  color: #000000;\n",
       "}\n",
       "#T_ffa6c_row1_col7 {\n",
       "  background-color: #78c679;\n",
       "  color: #000000;\n",
       "  width: 10em;\n",
       "  background: linear-gradient(90deg, #F8766D 49.0%, transparent 49.0%);\n",
       "}\n",
       "#T_ffa6c_row2_col1 {\n",
       "  background-color: #53b466;\n",
       "  color: #f1f1f1;\n",
       "  width: 10em;\n",
       "  background: linear-gradient(90deg, #00BFC4 58.0%, transparent 58.0%);\n",
       "}\n",
       "#T_ffa6c_row2_col2 {\n",
       "  background-color: #97d492;\n",
       "  color: #000000;\n",
       "}\n",
       "#T_ffa6c_row2_col4 {\n",
       "  background-color: #2f974e;\n",
       "  color: #f1f1f1;\n",
       "}\n",
       "#T_ffa6c_row2_col5 {\n",
       "  background-color: #5ab769;\n",
       "  color: #f1f1f1;\n",
       "}\n",
       "#T_ffa6c_row2_col6 {\n",
       "  background-color: #6abf71;\n",
       "  color: #000000;\n",
       "}\n",
       "#T_ffa6c_row2_col7, #T_ffa6c_row3_col7 {\n",
       "  background-color: #75c477;\n",
       "  color: #000000;\n",
       "  width: 10em;\n",
       "  background: linear-gradient(90deg, #F8766D 50.0%, transparent 50.0%);\n",
       "}\n",
       "#T_ffa6c_row3_col1 {\n",
       "  background-color: #50b264;\n",
       "  color: #f1f1f1;\n",
       "  width: 10em;\n",
       "  background: linear-gradient(90deg, #00BFC4 58.7%, transparent 58.7%);\n",
       "}\n",
       "#T_ffa6c_row3_col2 {\n",
       "  background-color: #99d595;\n",
       "  color: #000000;\n",
       "}\n",
       "#T_ffa6c_row3_col4 {\n",
       "  background-color: #289049;\n",
       "  color: #f1f1f1;\n",
       "}\n",
       "#T_ffa6c_row3_col5 {\n",
       "  background-color: #55b567;\n",
       "  color: #f1f1f1;\n",
       "}\n",
       "#T_ffa6c_row3_col6 {\n",
       "  background-color: #66bd6f;\n",
       "  color: #f1f1f1;\n",
       "}\n",
       "#T_ffa6c_row4_col1 {\n",
       "  background-color: #eef8ea;\n",
       "  color: #000000;\n",
       "  width: 10em;\n",
       "  background: linear-gradient(90deg, #00BFC4 6.6%, transparent 6.6%);\n",
       "}\n",
       "#T_ffa6c_row4_col2 {\n",
       "  background-color: #f2faf0;\n",
       "  color: #000000;\n",
       "}\n",
       "#T_ffa6c_row4_col3 {\n",
       "  background-color: #ddf2d8;\n",
       "  color: #000000;\n",
       "}\n",
       "#T_ffa6c_row4_col4 {\n",
       "  background-color: #eaf7e6;\n",
       "  color: #000000;\n",
       "}\n",
       "#T_ffa6c_row4_col5 {\n",
       "  background-color: #eef8ea;\n",
       "  color: #000000;\n",
       "}\n",
       "#T_ffa6c_row4_col6 {\n",
       "  background-color: #eff9ec;\n",
       "  color: #000000;\n",
       "}\n",
       "#T_ffa6c_row4_col7 {\n",
       "  background-color: #f0f9ed;\n",
       "  color: #000000;\n",
       "  width: 10em;\n",
       "  background: linear-gradient(90deg, #F8766D 5.0%, transparent 5.0%);\n",
       "}\n",
       "#T_ffa6c_row5_col1 {\n",
       "  background-color: #f5fbf3;\n",
       "  color: #000000;\n",
       "  width: 10em;\n",
       "  background: linear-gradient(90deg, #00BFC4 1.5%, transparent 1.5%);\n",
       "}\n",
       "#T_ffa6c_row5_col2 {\n",
       "  background-color: #f5fbf2;\n",
       "  color: #000000;\n",
       "}\n",
       "#T_ffa6c_row5_col3, #T_ffa6c_row6_col2, #T_ffa6c_row6_col4, #T_ffa6c_row6_col5, #T_ffa6c_row6_col6, #T_ffa6c_row7_col2, #T_ffa6c_row7_col3, #T_ffa6c_row7_col4, #T_ffa6c_row7_col5, #T_ffa6c_row7_col6, #T_ffa6c_row9_col3, #T_ffa6c_row9_col4, #T_ffa6c_row9_col5, #T_ffa6c_row9_col6 {\n",
       "  background-color: #f6fcf4;\n",
       "  color: #000000;\n",
       "}\n",
       "#T_ffa6c_row5_col4, #T_ffa6c_row5_col5, #T_ffa6c_row5_col6 {\n",
       "  background-color: #f5fbf3;\n",
       "  color: #000000;\n",
       "}\n",
       "#T_ffa6c_row5_col7 {\n",
       "  background-color: #f5fbf2;\n",
       "  color: #000000;\n",
       "  width: 10em;\n",
       "  background: linear-gradient(90deg, #F8766D 1.6%, transparent 1.6%);\n",
       "}\n",
       "#T_ffa6c_row6_col1, #T_ffa6c_row7_col1 {\n",
       "  background-color: #f6fcf4;\n",
       "  color: #000000;\n",
       "  width: 10em;\n",
       "  background: linear-gradient(90deg, #00BFC4 0.5%, transparent 0.5%);\n",
       "}\n",
       "#T_ffa6c_row6_col7, #T_ffa6c_row7_col7, #T_ffa6c_row8_col7, #T_ffa6c_row9_col7, #T_ffa6c_row10_col7 {\n",
       "  background-color: #f6fcf4;\n",
       "  color: #000000;\n",
       "  width: 10em;\n",
       "  background: linear-gradient(90deg, #F8766D 0.5%, transparent 0.5%);\n",
       "}\n",
       "#T_ffa6c_row8_col1, #T_ffa6c_row11_col1 {\n",
       "  background-color: #f7fcf5;\n",
       "  color: #000000;\n",
       "  width: 10em;\n",
       "  background: linear-gradient(90deg, #00BFC4 0.2%, transparent 0.2%);\n",
       "}\n",
       "#T_ffa6c_row9_col1 {\n",
       "  background-color: #f6fcf4;\n",
       "  color: #000000;\n",
       "  width: 10em;\n",
       "  background: linear-gradient(90deg, #00BFC4 0.6%, transparent 0.6%);\n",
       "}\n",
       "#T_ffa6c_row10_col1 {\n",
       "  background-color: #f7fcf5;\n",
       "  color: #000000;\n",
       "  width: 10em;\n",
       "  background: linear-gradient(90deg, #00BFC4 0.3%, transparent 0.3%);\n",
       "}\n",
       "#T_ffa6c_row11_col7 {\n",
       "  background-color: #f7fcf5;\n",
       "  color: #000000;\n",
       "  width: 10em;\n",
       "  background: linear-gradient(90deg, #F8766D 0.2%, transparent 0.2%);\n",
       "}\n",
       "#T_ffa6c_row12_col1 {\n",
       "  background-color: #f7fcf5;\n",
       "  color: #000000;\n",
       "  width: 10em;\n",
       "  background: linear-gradient(90deg, #00BFC4 0.1%, transparent 0.1%);\n",
       "}\n",
       "#T_ffa6c_row12_col7 {\n",
       "  background-color: #f7fcf5;\n",
       "  color: #000000;\n",
       "  width: 10em;\n",
       "  background: linear-gradient(90deg, #F8766D 0.1%, transparent 0.1%);\n",
       "}\n",
       "#T_ffa6c_row13_col1, #T_ffa6c_row14_col1, #T_ffa6c_row15_col1, #T_ffa6c_row16_col1, #T_ffa6c_row17_col1, #T_ffa6c_row18_col1, #T_ffa6c_row19_col1 {\n",
       "  background-color: #f7fcf5;\n",
       "  color: #000000;\n",
       "  width: 10em;\n",
       "  background: linear-gradient(90deg, #00BFC4 0.0%, transparent 0.0%);\n",
       "}\n",
       "#T_ffa6c_row13_col7, #T_ffa6c_row14_col7, #T_ffa6c_row15_col7, #T_ffa6c_row16_col7, #T_ffa6c_row17_col7, #T_ffa6c_row18_col7, #T_ffa6c_row19_col7 {\n",
       "  background-color: #f7fcf5;\n",
       "  color: #000000;\n",
       "  width: 10em;\n",
       "  background: linear-gradient(90deg, #F8766D 0.0%, transparent 0.0%);\n",
       "}\n",
       "</style>\n",
       "<table id=\"T_ffa6c\">\n",
       "  <thead>\n",
       "    <tr>\n",
       "      <th class=\"blank level0\" >&nbsp;</th>\n",
       "      <th id=\"T_ffa6c_level0_col0\" class=\"col_heading level0 col0\" >count</th>\n",
       "      <th id=\"T_ffa6c_level0_col1\" class=\"col_heading level0 col1\" >mean</th>\n",
       "      <th id=\"T_ffa6c_level0_col2\" class=\"col_heading level0 col2\" >std</th>\n",
       "      <th id=\"T_ffa6c_level0_col3\" class=\"col_heading level0 col3\" >min</th>\n",
       "      <th id=\"T_ffa6c_level0_col4\" class=\"col_heading level0 col4\" >25%</th>\n",
       "      <th id=\"T_ffa6c_level0_col5\" class=\"col_heading level0 col5\" >50%</th>\n",
       "      <th id=\"T_ffa6c_level0_col6\" class=\"col_heading level0 col6\" >75%</th>\n",
       "      <th id=\"T_ffa6c_level0_col7\" class=\"col_heading level0 col7\" >max</th>\n",
       "    </tr>\n",
       "  </thead>\n",
       "  <tbody>\n",
       "    <tr>\n",
       "      <th id=\"T_ffa6c_level0_row0\" class=\"row_heading level0 row0\" >ram</th>\n",
       "      <td id=\"T_ffa6c_row0_col0\" class=\"data row0 col0\" >1820.000000</td>\n",
       "      <td id=\"T_ffa6c_row0_col1\" class=\"data row0 col1\" >2133.372527</td>\n",
       "      <td id=\"T_ffa6c_row0_col2\" class=\"data row0 col2\" >1087.197536</td>\n",
       "      <td id=\"T_ffa6c_row0_col3\" class=\"data row0 col3\" >256.000000</td>\n",
       "      <td id=\"T_ffa6c_row0_col4\" class=\"data row0 col4\" >1203.750000</td>\n",
       "      <td id=\"T_ffa6c_row0_col5\" class=\"data row0 col5\" >2174.000000</td>\n",
       "      <td id=\"T_ffa6c_row0_col6\" class=\"data row0 col6\" >3072.250000</td>\n",
       "      <td id=\"T_ffa6c_row0_col7\" class=\"data row0 col7\" >3998.000000</td>\n",
       "    </tr>\n",
       "    <tr>\n",
       "      <th id=\"T_ffa6c_level0_row1\" class=\"row_heading level0 row1\" >px_height</th>\n",
       "      <td id=\"T_ffa6c_row1_col0\" class=\"data row1 col0\" >1820.000000</td>\n",
       "      <td id=\"T_ffa6c_row1_col1\" class=\"data row1 col1\" >646.731319</td>\n",
       "      <td id=\"T_ffa6c_row1_col2\" class=\"data row1 col2\" >444.877537</td>\n",
       "      <td id=\"T_ffa6c_row1_col3\" class=\"data row1 col3\" >0.000000</td>\n",
       "      <td id=\"T_ffa6c_row1_col4\" class=\"data row1 col4\" >283.750000</td>\n",
       "      <td id=\"T_ffa6c_row1_col5\" class=\"data row1 col5\" >561.500000</td>\n",
       "      <td id=\"T_ffa6c_row1_col6\" class=\"data row1 col6\" >952.000000</td>\n",
       "      <td id=\"T_ffa6c_row1_col7\" class=\"data row1 col7\" >1960.000000</td>\n",
       "    </tr>\n",
       "    <tr>\n",
       "      <th id=\"T_ffa6c_level0_row2\" class=\"row_heading level0 row2\" >battery_power</th>\n",
       "      <td id=\"T_ffa6c_row2_col0\" class=\"data row2 col0\" >1820.000000</td>\n",
       "      <td id=\"T_ffa6c_row2_col1\" class=\"data row2 col1\" >1237.843956</td>\n",
       "      <td id=\"T_ffa6c_row2_col2\" class=\"data row2 col2\" >439.940961</td>\n",
       "      <td id=\"T_ffa6c_row2_col3\" class=\"data row2 col3\" >501.000000</td>\n",
       "      <td id=\"T_ffa6c_row2_col4\" class=\"data row2 col4\" >845.500000</td>\n",
       "      <td id=\"T_ffa6c_row2_col5\" class=\"data row2 col5\" >1230.500000</td>\n",
       "      <td id=\"T_ffa6c_row2_col6\" class=\"data row2 col6\" >1611.000000</td>\n",
       "      <td id=\"T_ffa6c_row2_col7\" class=\"data row2 col7\" >1998.000000</td>\n",
       "    </tr>\n",
       "    <tr>\n",
       "      <th id=\"T_ffa6c_level0_row3\" class=\"row_heading level0 row3\" >px_width</th>\n",
       "      <td id=\"T_ffa6c_row3_col0\" class=\"data row3 col0\" >1820.000000</td>\n",
       "      <td id=\"T_ffa6c_row3_col1\" class=\"data row3 col1\" >1252.686264</td>\n",
       "      <td id=\"T_ffa6c_row3_col2\" class=\"data row3 col2\" >432.342583</td>\n",
       "      <td id=\"T_ffa6c_row3_col3\" class=\"data row3 col3\" >500.000000</td>\n",
       "      <td id=\"T_ffa6c_row3_col4\" class=\"data row3 col4\" >877.000000</td>\n",
       "      <td id=\"T_ffa6c_row3_col5\" class=\"data row3 col5\" >1250.000000</td>\n",
       "      <td id=\"T_ffa6c_row3_col6\" class=\"data row3 col6\" >1633.000000</td>\n",
       "      <td id=\"T_ffa6c_row3_col7\" class=\"data row3 col7\" >1998.000000</td>\n",
       "    </tr>\n",
       "    <tr>\n",
       "      <th id=\"T_ffa6c_level0_row4\" class=\"row_heading level0 row4\" >mobile_wt</th>\n",
       "      <td id=\"T_ffa6c_row4_col0\" class=\"data row4 col0\" >1820.000000</td>\n",
       "      <td id=\"T_ffa6c_row4_col1\" class=\"data row4 col1\" >140.585714</td>\n",
       "      <td id=\"T_ffa6c_row4_col2\" class=\"data row4 col2\" >35.428886</td>\n",
       "      <td id=\"T_ffa6c_row4_col3\" class=\"data row4 col3\" >80.000000</td>\n",
       "      <td id=\"T_ffa6c_row4_col4\" class=\"data row4 col4\" >109.000000</td>\n",
       "      <td id=\"T_ffa6c_row4_col5\" class=\"data row4 col5\" >141.500000</td>\n",
       "      <td id=\"T_ffa6c_row4_col6\" class=\"data row4 col6\" >170.250000</td>\n",
       "      <td id=\"T_ffa6c_row4_col7\" class=\"data row4 col7\" >200.000000</td>\n",
       "    </tr>\n",
       "    <tr>\n",
       "      <th id=\"T_ffa6c_level0_row5\" class=\"row_heading level0 row5\" >int_memory</th>\n",
       "      <td id=\"T_ffa6c_row5_col0\" class=\"data row5 col0\" >1820.000000</td>\n",
       "      <td id=\"T_ffa6c_row5_col1\" class=\"data row5 col1\" >32.139560</td>\n",
       "      <td id=\"T_ffa6c_row5_col2\" class=\"data row5 col2\" >18.114542</td>\n",
       "      <td id=\"T_ffa6c_row5_col3\" class=\"data row5 col3\" >2.000000</td>\n",
       "      <td id=\"T_ffa6c_row5_col4\" class=\"data row5 col4\" >16.000000</td>\n",
       "      <td id=\"T_ffa6c_row5_col5\" class=\"data row5 col5\" >32.000000</td>\n",
       "      <td id=\"T_ffa6c_row5_col6\" class=\"data row5 col6\" >48.000000</td>\n",
       "      <td id=\"T_ffa6c_row5_col7\" class=\"data row5 col7\" >64.000000</td>\n",
       "    </tr>\n",
       "    <tr>\n",
       "      <th id=\"T_ffa6c_level0_row6\" class=\"row_heading level0 row6\" >pc</th>\n",
       "      <td id=\"T_ffa6c_row6_col0\" class=\"data row6 col0\" >1820.000000</td>\n",
       "      <td id=\"T_ffa6c_row6_col1\" class=\"data row6 col1\" >9.882418</td>\n",
       "      <td id=\"T_ffa6c_row6_col2\" class=\"data row6 col2\" >6.007821</td>\n",
       "      <td id=\"T_ffa6c_row6_col3\" class=\"data row6 col3\" >0.000000</td>\n",
       "      <td id=\"T_ffa6c_row6_col4\" class=\"data row6 col4\" >5.000000</td>\n",
       "      <td id=\"T_ffa6c_row6_col5\" class=\"data row6 col5\" >10.000000</td>\n",
       "      <td id=\"T_ffa6c_row6_col6\" class=\"data row6 col6\" >15.000000</td>\n",
       "      <td id=\"T_ffa6c_row6_col7\" class=\"data row6 col7\" >20.000000</td>\n",
       "    </tr>\n",
       "    <tr>\n",
       "      <th id=\"T_ffa6c_level0_row7\" class=\"row_heading level0 row7\" >talk_time</th>\n",
       "      <td id=\"T_ffa6c_row7_col0\" class=\"data row7 col0\" >1820.000000</td>\n",
       "      <td id=\"T_ffa6c_row7_col1\" class=\"data row7 col1\" >11.007143</td>\n",
       "      <td id=\"T_ffa6c_row7_col2\" class=\"data row7 col2\" >5.455951</td>\n",
       "      <td id=\"T_ffa6c_row7_col3\" class=\"data row7 col3\" >2.000000</td>\n",
       "      <td id=\"T_ffa6c_row7_col4\" class=\"data row7 col4\" >6.000000</td>\n",
       "      <td id=\"T_ffa6c_row7_col5\" class=\"data row7 col5\" >11.000000</td>\n",
       "      <td id=\"T_ffa6c_row7_col6\" class=\"data row7 col6\" >16.000000</td>\n",
       "      <td id=\"T_ffa6c_row7_col7\" class=\"data row7 col7\" >20.000000</td>\n",
       "    </tr>\n",
       "    <tr>\n",
       "      <th id=\"T_ffa6c_level0_row8\" class=\"row_heading level0 row8\" >fc</th>\n",
       "      <td id=\"T_ffa6c_row8_col0\" class=\"data row8 col0\" >1820.000000</td>\n",
       "      <td id=\"T_ffa6c_row8_col1\" class=\"data row8 col1\" >4.319231</td>\n",
       "      <td id=\"T_ffa6c_row8_col2\" class=\"data row8 col2\" >4.354894</td>\n",
       "      <td id=\"T_ffa6c_row8_col3\" class=\"data row8 col3\" >0.000000</td>\n",
       "      <td id=\"T_ffa6c_row8_col4\" class=\"data row8 col4\" >1.000000</td>\n",
       "      <td id=\"T_ffa6c_row8_col5\" class=\"data row8 col5\" >3.000000</td>\n",
       "      <td id=\"T_ffa6c_row8_col6\" class=\"data row8 col6\" >7.000000</td>\n",
       "      <td id=\"T_ffa6c_row8_col7\" class=\"data row8 col7\" >19.000000</td>\n",
       "    </tr>\n",
       "    <tr>\n",
       "      <th id=\"T_ffa6c_level0_row9\" class=\"row_heading level0 row9\" >sc_h</th>\n",
       "      <td id=\"T_ffa6c_row9_col0\" class=\"data row9 col0\" >1820.000000</td>\n",
       "      <td id=\"T_ffa6c_row9_col1\" class=\"data row9 col1\" >12.485714</td>\n",
       "      <td id=\"T_ffa6c_row9_col2\" class=\"data row9 col2\" >4.166849</td>\n",
       "      <td id=\"T_ffa6c_row9_col3\" class=\"data row9 col3\" >5.000000</td>\n",
       "      <td id=\"T_ffa6c_row9_col4\" class=\"data row9 col4\" >9.000000</td>\n",
       "      <td id=\"T_ffa6c_row9_col5\" class=\"data row9 col5\" >13.000000</td>\n",
       "      <td id=\"T_ffa6c_row9_col6\" class=\"data row9 col6\" >16.000000</td>\n",
       "      <td id=\"T_ffa6c_row9_col7\" class=\"data row9 col7\" >19.000000</td>\n",
       "    </tr>\n",
       "    <tr>\n",
       "      <th id=\"T_ffa6c_level0_row10\" class=\"row_heading level0 row10\" >sc_w</th>\n",
       "      <td id=\"T_ffa6c_row10_col0\" class=\"data row10 col0\" >1820.000000</td>\n",
       "      <td id=\"T_ffa6c_row10_col1\" class=\"data row10 col1\" >6.337363</td>\n",
       "      <td id=\"T_ffa6c_row10_col2\" class=\"data row10 col2\" >4.152062</td>\n",
       "      <td id=\"T_ffa6c_row10_col3\" class=\"data row10 col3\" >1.000000</td>\n",
       "      <td id=\"T_ffa6c_row10_col4\" class=\"data row10 col4\" >3.000000</td>\n",
       "      <td id=\"T_ffa6c_row10_col5\" class=\"data row10 col5\" >6.000000</td>\n",
       "      <td id=\"T_ffa6c_row10_col6\" class=\"data row10 col6\" >9.000000</td>\n",
       "      <td id=\"T_ffa6c_row10_col7\" class=\"data row10 col7\" >18.000000</td>\n",
       "    </tr>\n",
       "    <tr>\n",
       "      <th id=\"T_ffa6c_level0_row11\" class=\"row_heading level0 row11\" >n_cores</th>\n",
       "      <td id=\"T_ffa6c_row11_col0\" class=\"data row11 col0\" >1820.000000</td>\n",
       "      <td id=\"T_ffa6c_row11_col1\" class=\"data row11 col1\" >4.532967</td>\n",
       "      <td id=\"T_ffa6c_row11_col2\" class=\"data row11 col2\" >2.289520</td>\n",
       "      <td id=\"T_ffa6c_row11_col3\" class=\"data row11 col3\" >1.000000</td>\n",
       "      <td id=\"T_ffa6c_row11_col4\" class=\"data row11 col4\" >3.000000</td>\n",
       "      <td id=\"T_ffa6c_row11_col5\" class=\"data row11 col5\" >5.000000</td>\n",
       "      <td id=\"T_ffa6c_row11_col6\" class=\"data row11 col6\" >7.000000</td>\n",
       "      <td id=\"T_ffa6c_row11_col7\" class=\"data row11 col7\" >8.000000</td>\n",
       "    </tr>\n",
       "    <tr>\n",
       "      <th id=\"T_ffa6c_level0_row12\" class=\"row_heading level0 row12\" >clock_speed</th>\n",
       "      <td id=\"T_ffa6c_row12_col0\" class=\"data row12 col0\" >1820.000000</td>\n",
       "      <td id=\"T_ffa6c_row12_col1\" class=\"data row12 col1\" >1.519670</td>\n",
       "      <td id=\"T_ffa6c_row12_col2\" class=\"data row12 col2\" >0.813829</td>\n",
       "      <td id=\"T_ffa6c_row12_col3\" class=\"data row12 col3\" >0.500000</td>\n",
       "      <td id=\"T_ffa6c_row12_col4\" class=\"data row12 col4\" >0.700000</td>\n",
       "      <td id=\"T_ffa6c_row12_col5\" class=\"data row12 col5\" >1.500000</td>\n",
       "      <td id=\"T_ffa6c_row12_col6\" class=\"data row12 col6\" >2.200000</td>\n",
       "      <td id=\"T_ffa6c_row12_col7\" class=\"data row12 col7\" >3.000000</td>\n",
       "    </tr>\n",
       "    <tr>\n",
       "      <th id=\"T_ffa6c_level0_row13\" class=\"row_heading level0 row13\" >blue</th>\n",
       "      <td id=\"T_ffa6c_row13_col0\" class=\"data row13 col0\" >1820.000000</td>\n",
       "      <td id=\"T_ffa6c_row13_col1\" class=\"data row13 col1\" >0.503846</td>\n",
       "      <td id=\"T_ffa6c_row13_col2\" class=\"data row13 col2\" >0.500123</td>\n",
       "      <td id=\"T_ffa6c_row13_col3\" class=\"data row13 col3\" >0.000000</td>\n",
       "      <td id=\"T_ffa6c_row13_col4\" class=\"data row13 col4\" >0.000000</td>\n",
       "      <td id=\"T_ffa6c_row13_col5\" class=\"data row13 col5\" >1.000000</td>\n",
       "      <td id=\"T_ffa6c_row13_col6\" class=\"data row13 col6\" >1.000000</td>\n",
       "      <td id=\"T_ffa6c_row13_col7\" class=\"data row13 col7\" >1.000000</td>\n",
       "    </tr>\n",
       "    <tr>\n",
       "      <th id=\"T_ffa6c_level0_row14\" class=\"row_heading level0 row14\" >dual_sim</th>\n",
       "      <td id=\"T_ffa6c_row14_col0\" class=\"data row14 col0\" >1820.000000</td>\n",
       "      <td id=\"T_ffa6c_row14_col1\" class=\"data row14 col1\" >0.504396</td>\n",
       "      <td id=\"T_ffa6c_row14_col2\" class=\"data row14 col2\" >0.500118</td>\n",
       "      <td id=\"T_ffa6c_row14_col3\" class=\"data row14 col3\" >0.000000</td>\n",
       "      <td id=\"T_ffa6c_row14_col4\" class=\"data row14 col4\" >0.000000</td>\n",
       "      <td id=\"T_ffa6c_row14_col5\" class=\"data row14 col5\" >1.000000</td>\n",
       "      <td id=\"T_ffa6c_row14_col6\" class=\"data row14 col6\" >1.000000</td>\n",
       "      <td id=\"T_ffa6c_row14_col7\" class=\"data row14 col7\" >1.000000</td>\n",
       "    </tr>\n",
       "    <tr>\n",
       "      <th id=\"T_ffa6c_level0_row15\" class=\"row_heading level0 row15\" >touch_screen</th>\n",
       "      <td id=\"T_ffa6c_row15_col0\" class=\"data row15 col0\" >1820.000000</td>\n",
       "      <td id=\"T_ffa6c_row15_col1\" class=\"data row15 col1\" >0.507692</td>\n",
       "      <td id=\"T_ffa6c_row15_col2\" class=\"data row15 col2\" >0.500078</td>\n",
       "      <td id=\"T_ffa6c_row15_col3\" class=\"data row15 col3\" >0.000000</td>\n",
       "      <td id=\"T_ffa6c_row15_col4\" class=\"data row15 col4\" >0.000000</td>\n",
       "      <td id=\"T_ffa6c_row15_col5\" class=\"data row15 col5\" >1.000000</td>\n",
       "      <td id=\"T_ffa6c_row15_col6\" class=\"data row15 col6\" >1.000000</td>\n",
       "      <td id=\"T_ffa6c_row15_col7\" class=\"data row15 col7\" >1.000000</td>\n",
       "    </tr>\n",
       "    <tr>\n",
       "      <th id=\"T_ffa6c_level0_row16\" class=\"row_heading level0 row16\" >wifi</th>\n",
       "      <td id=\"T_ffa6c_row16_col0\" class=\"data row16 col0\" >1820.000000</td>\n",
       "      <td id=\"T_ffa6c_row16_col1\" class=\"data row16 col1\" >0.513187</td>\n",
       "      <td id=\"T_ffa6c_row16_col2\" class=\"data row16 col2\" >0.499963</td>\n",
       "      <td id=\"T_ffa6c_row16_col3\" class=\"data row16 col3\" >0.000000</td>\n",
       "      <td id=\"T_ffa6c_row16_col4\" class=\"data row16 col4\" >0.000000</td>\n",
       "      <td id=\"T_ffa6c_row16_col5\" class=\"data row16 col5\" >1.000000</td>\n",
       "      <td id=\"T_ffa6c_row16_col6\" class=\"data row16 col6\" >1.000000</td>\n",
       "      <td id=\"T_ffa6c_row16_col7\" class=\"data row16 col7\" >1.000000</td>\n",
       "    </tr>\n",
       "    <tr>\n",
       "      <th id=\"T_ffa6c_level0_row17\" class=\"row_heading level0 row17\" >four_g</th>\n",
       "      <td id=\"T_ffa6c_row17_col0\" class=\"data row17 col0\" >1820.000000</td>\n",
       "      <td id=\"T_ffa6c_row17_col1\" class=\"data row17 col1\" >0.524725</td>\n",
       "      <td id=\"T_ffa6c_row17_col2\" class=\"data row17 col2\" >0.499526</td>\n",
       "      <td id=\"T_ffa6c_row17_col3\" class=\"data row17 col3\" >0.000000</td>\n",
       "      <td id=\"T_ffa6c_row17_col4\" class=\"data row17 col4\" >0.000000</td>\n",
       "      <td id=\"T_ffa6c_row17_col5\" class=\"data row17 col5\" >1.000000</td>\n",
       "      <td id=\"T_ffa6c_row17_col6\" class=\"data row17 col6\" >1.000000</td>\n",
       "      <td id=\"T_ffa6c_row17_col7\" class=\"data row17 col7\" >1.000000</td>\n",
       "    </tr>\n",
       "    <tr>\n",
       "      <th id=\"T_ffa6c_level0_row18\" class=\"row_heading level0 row18\" >three_g</th>\n",
       "      <td id=\"T_ffa6c_row18_col0\" class=\"data row18 col0\" >1820.000000</td>\n",
       "      <td id=\"T_ffa6c_row18_col1\" class=\"data row18 col1\" >0.760989</td>\n",
       "      <td id=\"T_ffa6c_row18_col2\" class=\"data row18 col2\" >0.426597</td>\n",
       "      <td id=\"T_ffa6c_row18_col3\" class=\"data row18 col3\" >0.000000</td>\n",
       "      <td id=\"T_ffa6c_row18_col4\" class=\"data row18 col4\" >1.000000</td>\n",
       "      <td id=\"T_ffa6c_row18_col5\" class=\"data row18 col5\" >1.000000</td>\n",
       "      <td id=\"T_ffa6c_row18_col6\" class=\"data row18 col6\" >1.000000</td>\n",
       "      <td id=\"T_ffa6c_row18_col7\" class=\"data row18 col7\" >1.000000</td>\n",
       "    </tr>\n",
       "    <tr>\n",
       "      <th id=\"T_ffa6c_level0_row19\" class=\"row_heading level0 row19\" >m_dep</th>\n",
       "      <td id=\"T_ffa6c_row19_col0\" class=\"data row19 col0\" >1820.000000</td>\n",
       "      <td id=\"T_ffa6c_row19_col1\" class=\"data row19 col1\" >0.499890</td>\n",
       "      <td id=\"T_ffa6c_row19_col2\" class=\"data row19 col2\" >0.288805</td>\n",
       "      <td id=\"T_ffa6c_row19_col3\" class=\"data row19 col3\" >0.100000</td>\n",
       "      <td id=\"T_ffa6c_row19_col4\" class=\"data row19 col4\" >0.200000</td>\n",
       "      <td id=\"T_ffa6c_row19_col5\" class=\"data row19 col5\" >0.500000</td>\n",
       "      <td id=\"T_ffa6c_row19_col6\" class=\"data row19 col6\" >0.800000</td>\n",
       "      <td id=\"T_ffa6c_row19_col7\" class=\"data row19 col7\" >1.000000</td>\n",
       "    </tr>\n",
       "  </tbody>\n",
       "</table>\n"
      ],
      "text/plain": [
       "<pandas.io.formats.style.Styler at 0x7cc0534408e0>"
      ]
     },
     "execution_count": 5,
     "metadata": {},
     "output_type": "execute_result"
    }
   ],
   "source": [
    "tdf.iloc[:, :-1].describe().T.sort_values(by='std', ascending = False)\\\n",
    "                          .style.background_gradient(cmap=\"Greens\")\\\n",
    "                          .bar(subset=[\"max\"], color='#F8766D')\\\n",
    "                          .bar(subset=[\"mean\"], color='#00BFC4')"
   ]
  },
  {
   "cell_type": "code",
   "execution_count": 6,
   "id": "4ce48b17",
   "metadata": {
    "execution": {
     "iopub.execute_input": "2023-07-15T05:25:08.077050Z",
     "iopub.status.busy": "2023-07-15T05:25:08.076618Z",
     "iopub.status.idle": "2023-07-15T05:25:08.100088Z",
     "shell.execute_reply": "2023-07-15T05:25:08.098977Z"
    },
    "papermill": {
     "duration": 0.038234,
     "end_time": "2023-07-15T05:25:08.103046",
     "exception": false,
     "start_time": "2023-07-15T05:25:08.064812",
     "status": "completed"
    },
    "tags": []
   },
   "outputs": [
    {
     "data": {
      "text/html": [
       "<div>\n",
       "<style scoped>\n",
       "    .dataframe tbody tr th:only-of-type {\n",
       "        vertical-align: middle;\n",
       "    }\n",
       "\n",
       "    .dataframe tbody tr th {\n",
       "        vertical-align: top;\n",
       "    }\n",
       "\n",
       "    .dataframe thead th {\n",
       "        text-align: right;\n",
       "    }\n",
       "</style>\n",
       "<table border=\"1\" class=\"dataframe\">\n",
       "  <thead>\n",
       "    <tr style=\"text-align: right;\">\n",
       "      <th></th>\n",
       "      <th>battery_power</th>\n",
       "      <th>blue</th>\n",
       "      <th>clock_speed</th>\n",
       "      <th>dual_sim</th>\n",
       "      <th>fc</th>\n",
       "      <th>four_g</th>\n",
       "      <th>int_memory</th>\n",
       "      <th>m_dep</th>\n",
       "      <th>mobile_wt</th>\n",
       "      <th>n_cores</th>\n",
       "      <th>...</th>\n",
       "      <th>px_height</th>\n",
       "      <th>px_width</th>\n",
       "      <th>ram</th>\n",
       "      <th>sc_h</th>\n",
       "      <th>sc_w</th>\n",
       "      <th>talk_time</th>\n",
       "      <th>three_g</th>\n",
       "      <th>touch_screen</th>\n",
       "      <th>wifi</th>\n",
       "      <th>price_range</th>\n",
       "    </tr>\n",
       "  </thead>\n",
       "  <tbody>\n",
       "    <tr>\n",
       "      <th>0</th>\n",
       "      <td>1052</td>\n",
       "      <td>2</td>\n",
       "      <td>26</td>\n",
       "      <td>2</td>\n",
       "      <td>20</td>\n",
       "      <td>2</td>\n",
       "      <td>63</td>\n",
       "      <td>10</td>\n",
       "      <td>121</td>\n",
       "      <td>8</td>\n",
       "      <td>...</td>\n",
       "      <td>1071</td>\n",
       "      <td>1056</td>\n",
       "      <td>1455</td>\n",
       "      <td>15</td>\n",
       "      <td>18</td>\n",
       "      <td>19</td>\n",
       "      <td>2</td>\n",
       "      <td>2</td>\n",
       "      <td>2</td>\n",
       "      <td>4</td>\n",
       "    </tr>\n",
       "  </tbody>\n",
       "</table>\n",
       "<p>1 rows × 21 columns</p>\n",
       "</div>"
      ],
      "text/plain": [
       "   battery_power  blue  clock_speed  dual_sim  fc  four_g  int_memory  m_dep  \\\n",
       "0           1052     2           26         2  20       2          63     10   \n",
       "\n",
       "   mobile_wt  n_cores  ...  px_height  px_width   ram  sc_h  sc_w  talk_time  \\\n",
       "0        121        8  ...       1071      1056  1455    15    18         19   \n",
       "\n",
       "   three_g  touch_screen  wifi  price_range  \n",
       "0        2             2     2            4  \n",
       "\n",
       "[1 rows x 21 columns]"
      ]
     },
     "execution_count": 6,
     "metadata": {},
     "output_type": "execute_result"
    }
   ],
   "source": [
    "# Number of uniqe elements in each columns\n",
    "unique = tdf.nunique()\n",
    "unique.to_frame().T"
   ]
  },
  {
   "cell_type": "code",
   "execution_count": 7,
   "id": "cf4a1ab8",
   "metadata": {
    "execution": {
     "iopub.execute_input": "2023-07-15T05:25:08.127601Z",
     "iopub.status.busy": "2023-07-15T05:25:08.127161Z",
     "iopub.status.idle": "2023-07-15T05:25:08.134376Z",
     "shell.execute_reply": "2023-07-15T05:25:08.133215Z"
    },
    "papermill": {
     "duration": 0.022176,
     "end_time": "2023-07-15T05:25:08.137384",
     "exception": false,
     "start_time": "2023-07-15T05:25:08.115208",
     "status": "completed"
    },
    "tags": []
   },
   "outputs": [
    {
     "name": "stdout",
     "output_type": "stream",
     "text": [
      "Number of values below 65 pixels in 'px_height' feature:  78\n"
     ]
    }
   ],
   "source": [
    "below= tdf[\"px_height\"][tdf[\"px_height\"] < 65]\n",
    "n= len(below)\n",
    "print(\"Number of values below 65 pixels in 'px_height' feature: \", n)"
   ]
  },
  {
   "cell_type": "code",
   "execution_count": 8,
   "id": "dbfa052a",
   "metadata": {
    "execution": {
     "iopub.execute_input": "2023-07-15T05:25:08.160658Z",
     "iopub.status.busy": "2023-07-15T05:25:08.160206Z",
     "iopub.status.idle": "2023-07-15T05:25:08.173873Z",
     "shell.execute_reply": "2023-07-15T05:25:08.172673Z"
    },
    "papermill": {
     "duration": 0.028764,
     "end_time": "2023-07-15T05:25:08.176807",
     "exception": false,
     "start_time": "2023-07-15T05:25:08.148043",
     "status": "completed"
    },
    "tags": []
   },
   "outputs": [
    {
     "data": {
      "text/plain": [
       "count    1820.000000\n",
       "mean      646.731319\n",
       "std       444.877537\n",
       "min         0.000000\n",
       "25%       283.750000\n",
       "50%       561.500000\n",
       "75%       952.000000\n",
       "max      1960.000000\n",
       "Name: px_height, dtype: float64"
      ]
     },
     "execution_count": 8,
     "metadata": {},
     "output_type": "execute_result"
    }
   ],
   "source": [
    "tdf.px_height.describe()"
   ]
  },
  {
   "cell_type": "code",
   "execution_count": 9,
   "id": "bde0c86c",
   "metadata": {
    "execution": {
     "iopub.execute_input": "2023-07-15T05:25:08.201296Z",
     "iopub.status.busy": "2023-07-15T05:25:08.200905Z",
     "iopub.status.idle": "2023-07-15T05:25:08.784036Z",
     "shell.execute_reply": "2023-07-15T05:25:08.782795Z"
    },
    "papermill": {
     "duration": 0.599201,
     "end_time": "2023-07-15T05:25:08.787073",
     "exception": false,
     "start_time": "2023-07-15T05:25:08.187872",
     "status": "completed"
    },
    "tags": []
   },
   "outputs": [
    {
     "name": "stderr",
     "output_type": "stream",
     "text": [
      "/opt/conda/lib/python3.10/site-packages/seaborn/axisgrid.py:118: UserWarning: The figure layout has changed to tight\n",
      "  self._figure.tight_layout(*args, **kwargs)\n"
     ]
    },
    {
     "data": {
      "image/png": "[encoded data removed]",
      "text/plain": [
       "<Figure size 500x500 with 1 Axes>"
      ]
     },
     "metadata": {},
     "output_type": "display_data"
    }
   ],
   "source": [
    "sns.set(rc={'figure.figsize':(5,5)})\n",
    "ax=sns.displot(data=tdf[\"m_dep\"])\n",
    "plt.show()"
   ]
  },
  {
   "cell_type": "code",
   "execution_count": 10,
   "id": "c4574fbf",
   "metadata": {
    "execution": {
     "iopub.execute_input": "2023-07-15T05:25:08.811551Z",
     "iopub.status.busy": "2023-07-15T05:25:08.811088Z",
     "iopub.status.idle": "2023-07-15T05:25:08.823633Z",
     "shell.execute_reply": "2023-07-15T05:25:08.822150Z"
    },
    "papermill": {
     "duration": 0.027607,
     "end_time": "2023-07-15T05:25:08.826123",
     "exception": false,
     "start_time": "2023-07-15T05:25:08.798516",
     "status": "completed"
    },
    "tags": []
   },
   "outputs": [
    {
     "data": {
      "text/plain": [
       "battery_power    False\n",
       "blue             False\n",
       "clock_speed      False\n",
       "dual_sim         False\n",
       "fc               False\n",
       "four_g           False\n",
       "int_memory       False\n",
       "m_dep            False\n",
       "mobile_wt        False\n",
       "n_cores          False\n",
       "pc               False\n",
       "px_height        False\n",
       "px_width         False\n",
       "ram              False\n",
       "sc_h             False\n",
       "sc_w             False\n",
       "talk_time        False\n",
       "three_g          False\n",
       "touch_screen     False\n",
       "wifi             False\n",
       "dtype: bool"
      ]
     },
     "execution_count": 10,
     "metadata": {},
     "output_type": "execute_result"
    }
   ],
   "source": [
    "X=tdf.drop(['price_range'], axis=1)\n",
    "y=tdf['price_range']\n",
    "#missing values\n",
    "X.isna().any()"
   ]
  },
  {
   "cell_type": "code",
   "execution_count": 11,
   "id": "245344a2",
   "metadata": {
    "execution": {
     "iopub.execute_input": "2023-07-15T05:25:08.851259Z",
     "iopub.status.busy": "2023-07-15T05:25:08.850844Z",
     "iopub.status.idle": "2023-07-15T05:25:09.637028Z",
     "shell.execute_reply": "2023-07-15T05:25:09.635893Z"
    },
    "papermill": {
     "duration": 0.802216,
     "end_time": "2023-07-15T05:25:09.639732",
     "exception": false,
     "start_time": "2023-07-15T05:25:08.837516",
     "status": "completed"
    },
    "tags": []
   },
   "outputs": [
    {
     "data": {
      "image/png": "[encoded data removed]",
      "text/plain": [
       "<Figure size 2200x400 with 2 Axes>"
      ]
     },
     "metadata": {},
     "output_type": "display_data"
    }
   ],
   "source": [
    "plt.figure(figsize=(22,4))\n",
    "sns.heatmap((tdf.isna().sum()).to_frame(name='').T,cmap='GnBu', annot=True,\n",
    "             fmt='0.0f').set_title('Count missing values (train data)', fontsize=18)\n",
    "plt.show()"
   ]
  },
  {
   "cell_type": "code",
   "execution_count": null,
   "id": "3250c068",
   "metadata": {
    "execution": {
     "iopub.execute_input": "2023-07-15T05:07:45.637051Z",
     "iopub.status.busy": "2023-07-15T05:07:45.635807Z",
     "iopub.status.idle": "2023-07-15T05:07:45.787287Z",
     "shell.execute_reply": "2023-07-15T05:07:45.786435Z",
     "shell.execute_reply.started": "2023-07-15T05:07:45.637007Z"
    },
    "papermill": {
     "duration": null,
     "end_time": null,
     "exception": null,
     "start_time": null,
     "status": "pending"
    },
    "tags": []
   },
   "outputs": [
    {
     "ename": "",
     "evalue": "",
     "output_type": "error",
     "traceback": [
      "\u001b[1;31mRunning cells with 'c:\\Users\\sain4\\AppData\\Local\\Programs\\Python\\Python310\\python.exe' requires the ipykernel package.\n",
      "\u001b[1;31mRun the following command to install 'ipykernel' into the Python environment. \n",
      "\u001b[1;31mCommand: 'c:/Users/sain4/AppData/Local/Programs/Python/Python310/python.exe -m pip install ipykernel -U --user --force-reinstall'"
     ]
    }
   ],
   "source": [
    "#Exploratory Data Analysis (EDA)\n",
    "T= 'price_range'\n",
    "F = [col for col in tdf.columns if col not in ['tdf', T]]\n",
    "\n",
    "cat_features = [col for col in F if tdf[col].nunique() < 25]\n",
    "cont_features = [col for col in F if tdf[col].nunique() >= 25]\n",
    "\n",
    "num_cat_features = len(cat_features)\n",
    "num_cont_features = len(cont_features)\n",
    "\n",
    "print(f\"Total number of features except for the target: {len(F)}\")\n",
    "print(f\"\\033[92mNumber of categorical (<25 Unique Values) features: {num_cat_features}\")\n",
    "print(f\"\\033[96mNumber of continuous features: {num_cont_features}\")\n",
    "\n",
    "# Define labels and colors for the pie chart\n",
    "labels = ['Categorical (<25 Unique Values)', 'Continuous']\n",
    "colors = ['#bbddcb', '#cdddbb']\n",
    "\n",
    "plt.pie([num_cat_features, num_cont_features], \n",
    "        labels=labels,\n",
    "        colors=colors,\n",
    "        textprops={'fontsize': 13},\n",
    "        autopct='%1.1f%%')\n",
    "\n",
    "# Add a title to the plot\n",
    "plt.title('Distribution of Categorical and Continuous Features', fontsize=16)\n",
    "\n",
    "# Show the plot\n",
    "plt.show()"
   ]
  },
  {
   "cell_type": "code",
   "execution_count": null,
   "id": "b7c98041",
   "metadata": {
    "execution": {
     "iopub.execute_input": "2023-07-15T05:08:58.030072Z",
     "iopub.status.busy": "2023-07-15T05:08:58.029702Z",
     "iopub.status.idle": "2023-07-15T05:08:58.209979Z",
     "shell.execute_reply": "2023-07-15T05:08:58.208703Z",
     "shell.execute_reply.started": "2023-07-15T05:08:58.030042Z"
    },
    "papermill": {
     "duration": null,
     "end_time": null,
     "exception": null,
     "start_time": null,
     "status": "pending"
    },
    "tags": []
   },
   "outputs": [],
   "source": [
    "#check for data balance\n",
    "value_counts= pd.value_counts(tdf['price_range'])\n",
    "\n",
    "# Define the label strings using f-strings\n",
    "label = [f'{\"Very high\" if i==0 else \"High\" if i==1 else \"Medium\" if i==2 else \"Low\"} cost' for i in range(len(value_counts))]\n",
    "\n",
    "# Define the colors for each pie slice\n",
    "colors = ['#4d9b68', '#538e8a', '#468e71', '#59ae8c']\n",
    "\n",
    "# Create a pie chart with percentage values formatted with a % sign and explode the slices\n",
    "fig, ax = plt.subplots()\n",
    "ax.pie(value_counts.values, autopct='%0.1f%%', explode=[0.1, 0.1, 0.1, 0.1], shadow=True, labels=label, colors=colors)\n",
    "\n",
    "# Set the title of the pie chart\n",
    "ax.set_title('Balanced or Imbalanced?')\n",
    "\n",
    "# Show the pie chart\n",
    "plt.show()"
   ]
  },
  {
   "cell_type": "code",
   "execution_count": null,
   "id": "d18e6707",
   "metadata": {
    "execution": {
     "iopub.execute_input": "2023-07-15T05:11:34.124408Z",
     "iopub.status.busy": "2023-07-15T05:11:34.124026Z",
     "iopub.status.idle": "2023-07-15T05:11:34.130760Z",
     "shell.execute_reply": "2023-07-15T05:11:34.129258Z",
     "shell.execute_reply.started": "2023-07-15T05:11:34.124378Z"
    },
    "papermill": {
     "duration": null,
     "end_time": null,
     "exception": null,
     "start_time": null,
     "status": "pending"
    },
    "tags": []
   },
   "outputs": [],
   "source": [
    "#building random forest model\n",
    "from sklearn.ensemble import RandomForestClassifier\n",
    "rfc=RandomForestClassifier(bootstrap= True,\n",
    "                           max_depth= 7,\n",
    "                           max_features= 15,\n",
    "                           min_samples_leaf= 3,\n",
    "                           min_samples_split= 10,\n",
    "                           n_estimators= 200,\n",
    "                           random_state=7)"
   ]
  },
  {
   "cell_type": "code",
   "execution_count": null,
   "id": "1d64ecbb",
   "metadata": {
    "execution": {
     "iopub.execute_input": "2023-07-15T05:12:24.869980Z",
     "iopub.status.busy": "2023-07-15T05:12:24.869591Z",
     "iopub.status.idle": "2023-07-15T05:12:24.879388Z",
     "shell.execute_reply": "2023-07-15T05:12:24.877781Z",
     "shell.execute_reply.started": "2023-07-15T05:12:24.869949Z"
    },
    "papermill": {
     "duration": null,
     "end_time": null,
     "exception": null,
     "start_time": null,
     "status": "pending"
    },
    "tags": []
   },
   "outputs": [],
   "source": [
    "#train test split of data\n",
    "from sklearn.model_selection import train_test_split\n",
    "X_train, X_valid, y_train, y_valid= train_test_split(X, y, test_size=0.2, random_state=7)\n"
   ]
  },
  {
   "cell_type": "code",
   "execution_count": null,
   "id": "f28d9438",
   "metadata": {
    "execution": {
     "iopub.execute_input": "2023-07-15T05:15:39.322873Z",
     "iopub.status.busy": "2023-07-15T05:15:39.321660Z",
     "iopub.status.idle": "2023-07-15T05:15:39.330095Z",
     "shell.execute_reply": "2023-07-15T05:15:39.328720Z",
     "shell.execute_reply.started": "2023-07-15T05:15:39.322824Z"
    },
    "papermill": {
     "duration": null,
     "end_time": null,
     "exception": null,
     "start_time": null,
     "status": "pending"
    },
    "tags": []
   },
   "outputs": [],
   "source": [
    "#confusion matrix\n",
    "from sklearn.metrics import classification_report, confusion_matrix, accuracy_score\n",
    "def my_confusion_matrix(y_test, y_pred, plt_title):\n",
    "    cm=confusion_matrix(y_test, y_pred)\n",
    "    print(classification_report(y_test, y_pred))\n",
    "    sns.heatmap(cm, annot=True, fmt='g', cbar=False, cmap='Greens')\n",
    "    plt.xlabel('Predicted Values')\n",
    "    plt.ylabel('Actual Values')\n",
    "    plt.title(plt_title)\n",
    "    plt.show()\n",
    "    return cm"
   ]
  },
  {
   "cell_type": "code",
   "execution_count": null,
   "id": "4156b4cb",
   "metadata": {
    "execution": {
     "iopub.execute_input": "2023-07-15T05:13:27.846672Z",
     "iopub.status.busy": "2023-07-15T05:13:27.846140Z",
     "iopub.status.idle": "2023-07-15T05:13:29.292695Z",
     "shell.execute_reply": "2023-07-15T05:13:29.291049Z",
     "shell.execute_reply.started": "2023-07-15T05:13:27.846620Z"
    },
    "papermill": {
     "duration": null,
     "end_time": null,
     "exception": null,
     "start_time": null,
     "status": "pending"
    },
    "tags": []
   },
   "outputs": [],
   "source": [
    "#using raandom forest model to our train and test data\n",
    "rfc.fit(X_train, y_train)\n",
    "y_pred_rfc=rfc.predict(X_valid)"
   ]
  },
  {
   "cell_type": "code",
   "execution_count": null,
   "id": "99324e87",
   "metadata": {
    "execution": {
     "iopub.execute_input": "2023-07-15T05:15:44.732160Z",
     "iopub.status.busy": "2023-07-15T05:15:44.731669Z",
     "iopub.status.idle": "2023-07-15T05:15:44.986374Z",
     "shell.execute_reply": "2023-07-15T05:15:44.985022Z",
     "shell.execute_reply.started": "2023-07-15T05:15:44.732123Z"
    },
    "papermill": {
     "duration": null,
     "end_time": null,
     "exception": null,
     "start_time": null,
     "status": "pending"
    },
    "tags": []
   },
   "outputs": [],
   "source": [
    "print('Random Forest Classifier Accuracy Score: ',accuracy_score(y_valid,y_pred_rfc))\n",
    "cm_rfc=my_confusion_matrix(y_valid, y_pred_rfc, 'Random Forest Confusion Matrix')"
   ]
  },
  {
   "cell_type": "code",
   "execution_count": null,
   "id": "f6113b92",
   "metadata": {
    "execution": {
     "iopub.execute_input": "2023-07-15T05:17:02.107466Z",
     "iopub.status.busy": "2023-07-15T05:17:02.107072Z",
     "iopub.status.idle": "2023-07-15T05:17:02.122886Z",
     "shell.execute_reply": "2023-07-15T05:17:02.121779Z",
     "shell.execute_reply.started": "2023-07-15T05:17:02.107437Z"
    },
    "papermill": {
     "duration": null,
     "end_time": null,
     "exception": null,
     "start_time": null,
     "status": "pending"
    },
    "tags": []
   },
   "outputs": [],
   "source": [
    "# using Guassian Naive Bayes model\n",
    "from sklearn.naive_bayes import GaussianNB\n",
    "gnb = GaussianNB()\n",
    "gnb.fit(X_train, y_train)\n",
    "y_pred_gnb=gnb.predict(X_valid)"
   ]
  },
  {
   "cell_type": "code",
   "execution_count": null,
   "id": "08197d0b",
   "metadata": {
    "execution": {
     "iopub.execute_input": "2023-07-15T05:17:17.181592Z",
     "iopub.status.busy": "2023-07-15T05:17:17.181093Z",
     "iopub.status.idle": "2023-07-15T05:17:17.427869Z",
     "shell.execute_reply": "2023-07-15T05:17:17.426307Z",
     "shell.execute_reply.started": "2023-07-15T05:17:17.181549Z"
    },
    "papermill": {
     "duration": null,
     "end_time": null,
     "exception": null,
     "start_time": null,
     "status": "pending"
    },
    "tags": []
   },
   "outputs": [],
   "source": [
    "print('Gaussian NB Classifier Accuracy Score: ',accuracy_score(y_valid,y_pred_gnb))\n",
    "cm_rfc=my_confusion_matrix(y_valid, y_pred_gnb, 'Gaussian NB Confusion Matrix')"
   ]
  },
  {
   "cell_type": "code",
   "execution_count": null,
   "id": "4772af9d",
   "metadata": {
    "execution": {
     "iopub.execute_input": "2023-07-15T05:18:07.475351Z",
     "iopub.status.busy": "2023-07-15T05:18:07.474946Z",
     "iopub.status.idle": "2023-07-15T05:18:07.785692Z",
     "shell.execute_reply": "2023-07-15T05:18:07.784427Z",
     "shell.execute_reply.started": "2023-07-15T05:18:07.475319Z"
    },
    "papermill": {
     "duration": null,
     "end_time": null,
     "exception": null,
     "start_time": null,
     "status": "pending"
    },
    "tags": []
   },
   "outputs": [],
   "source": [
    "#using KNN classifier\n",
    "from sklearn.neighbors import KNeighborsClassifier\n",
    "knn = KNeighborsClassifier(n_neighbors=3,leaf_size=25)\n",
    "knn.fit(X_train, y_train)\n",
    "y_pred_knn=knn.predict(X_valid)\n",
    "print('KNN Classifier Accuracy Score: ',accuracy_score(y_valid,y_pred_knn))\n",
    "cm_rfc=my_confusion_matrix(y_valid, y_pred_knn, 'KNN Confusion Matrix')"
   ]
  },
  {
   "cell_type": "code",
   "execution_count": null,
   "id": "e4e567f3",
   "metadata": {
    "execution": {
     "iopub.execute_input": "2023-07-15T05:18:44.690123Z",
     "iopub.status.busy": "2023-07-15T05:18:44.689626Z",
     "iopub.status.idle": "2023-07-15T05:18:44.996227Z",
     "shell.execute_reply": "2023-07-15T05:18:44.994833Z",
     "shell.execute_reply.started": "2023-07-15T05:18:44.690086Z"
    },
    "papermill": {
     "duration": null,
     "end_time": null,
     "exception": null,
     "start_time": null,
     "status": "pending"
    },
    "tags": []
   },
   "outputs": [],
   "source": [
    "#using SVM classifier\n",
    "from sklearn import svm\n",
    "svm_clf = svm.SVC(decision_function_shape='ovo')\n",
    "svm_clf.fit(X_train, y_train)\n",
    "y_pred_svm=svm_clf.predict(X_valid)\n",
    "print('SVM Classifier Accuracy Score: ',accuracy_score(y_valid,y_pred_svm))\n",
    "cm_rfc=my_confusion_matrix(y_valid, y_pred_svm, 'SVM Confusion Matrix')"
   ]
  }
 ],
 "metadata": {
  "kernelspec": {
   "display_name": "Python 3",
   "language": "python",
   "name": "python3"
  },
  "language_info": {
   "codemirror_mode": {
    "name": "ipython",
    "version": 3
   },
   "file_extension": ".py",
   "mimetype": "text/x-python",
   "name": "python",
   "nbconvert_exporter": "python",
   "pygments_lexer": "ipython3",
   "version": "3.10.7"
  },
  "papermill": {
   "default_parameters": {},
   "duration": 18.656867,
   "end_time": "2023-07-15T05:25:11.215312",
   "environment_variables": {},
   "exception": true,
   "input_path": "__notebook__.ipynb",
   "output_path": "__notebook__.ipynb",
   "parameters": {},
   "start_time": "2023-07-15T05:24:52.558445",
   "version": "2.4.0"
  }
 },
 "nbformat": 4,
 "nbformat_minor": 5
}
